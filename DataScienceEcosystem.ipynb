{
 "cells": [
  {
   "cell_type": "markdown",
   "metadata": {},
   "source": [
    "<center>\n",
    "    <img src=\"https://cf-courses-data.s3.us.cloud-object-storage.appdomain.cloud/IBMDeveloperSkillsNetwork-DS0105EN-SkillsNetwork/labs/Module2/images/SN_web_lightmode.png\" width=\"300\" alt=\"cognitiveclass.ai logo\">\n",
    "</center>\n"
   ]
  },
  {
   "cell_type": "markdown",
   "metadata": {},
   "source": [
    "#### Add your code below following the instructions given in the course\n"
   ]
  },
  {
   "cell_type": "markdown",
   "metadata": {},
   "source": [
    "# Data Science Tools and Ecosystem"
   ]
  },
  {
   "cell_type": "markdown",
   "metadata": {
    "tags": []
   },
   "source": [
    "### Introduction\n",
    "In this notebook, Data Science Tools and Ecosystem are summarized."
   ]
  },
  {
   "cell_type": "markdown",
   "metadata": {},
   "source": [
    "### Overview\n",
    "\n",
    "Some of the popular languages that Data Scientists use are:\n",
    "\n",
    "1. **Python**: Widely recognized for its simplicity and versatility, Python has become the de facto language for data science tasks. Its rich ecosystem of libraries such as Pandas, NumPy, and Scikit-learn make it ideal for data manipulation, analysis, and machine learning.\n",
    "\n",
    "2. **R**: Renowned for its statistical computing capabilities, R is another prevalent language in the data science community. It offers extensive packages like ggplot2 for visualization and dplyr for data manipulation, making it a preferred choice for statisticians and researchers.\n",
    "\n",
    "3. **SQL (Structured Query Lan(Structured Query Language)**: While not a programming language in the traditional sense, SQL plays a vital role in data science by enabling efficient querying and manipulation of relational databases. Data scientists frequently use SQL to extract and analyze data stored in databases.\n",
    "\n"
   ]
  },
  {
   "cell_type": "markdown",
   "metadata": {
    "tags": []
   },
   "source": [
    "Some of the commonly used libraries used by Data Scientists include:\n",
    "1. **Pandas**: Pandas is a powerful Python library for data manipulation and analysis. It provides data structures like DataFrames and Series, along with functions to efficiently handle large datasets, perform data cleaning, filtering, grouping, and more.\n",
    "\n",
    "2. **NumPy**: NumPy is a fundamental package for numerical computing in Python. It offers support for multi-dimensional arrays, mathematical functions, random number generation, linear algebra operations, and integration with other libraries like Pandas and Matplotlib.\n",
    "\n",
    "3. **Matplotlib**: Matplotlib is a versatile Python plotting library used for creating static, interactive, and animated visualizations. It provides a wide range of plot types and customization options, making it suitable for exploratory data analysis and presentation of results.\n",
    "\n",
    "4. **Scikit-learn**: Scikit-learn is a machine learning library built on top of NumPy, SciPy, and Matplotlib. It offers a simple and efficient toolkit for various machine learning tasks, including classification, regression, clustering, dimensionality reduction, and model evaluation.\n",
    "\n",
    "5. **Seaborn**: Seaborn is a Python visualization library based on Matplotlib, designed for creating attractive and informative statistical graphics. It provides high-level functions for visualizing relationships in data, including scatter plots, box plots, heatmaps, and more."
   ]
  },
  {
   "cell_type": "markdown",
   "metadata": {},
   "source": [
    "# Data Science Tools\n",
    "\n",
    "|Data Science Tools|\n",
    "|------------------|\n",
    "|Jupyter Notebook  |\n",
    "|RStudio           |\n",
    "|Spyder            |"
   ]
  },
  {
   "cell_type": "markdown",
   "metadata": {},
   "source": [
    "### Below are a few examples of evaluating arithmetic expressions in Python."
   ]
  },
  {
   "cell_type": "code",
   "execution_count": 10,
   "metadata": {
    "tags": []
   },
   "outputs": [
    {
     "data": {
      "text/plain": [
       "17"
      ]
     },
     "execution_count": 10,
     "metadata": {},
     "output_type": "execute_result"
    }
   ],
   "source": [
    "# This a simple arithmetic expression to mutiply then add integers\n",
    "(3*4)+5 "
   ]
  },
  {
   "cell_type": "code",
   "execution_count": 12,
   "metadata": {
    "tags": []
   },
   "outputs": [
    {
     "name": "stdout",
     "output_type": "stream",
     "text": [
      "3.3333333333333335\n"
     ]
    }
   ],
   "source": [
    "# This will convert 200 minutes to hours by diving by 60\n",
    "minutes = 200\n",
    "hours = minutes / 60\n",
    "print(hours)"
   ]
  },
  {
   "cell_type": "markdown",
   "metadata": {},
   "source": [
    "# Objectives:\n",
    "\n",
    "- List popular languages for Data Science.\n",
    "- Summarize commonly used data science libraries.\n",
    "- Present a table of Data Science tools.\n",
    "- Perform basic arithmetic operations in a code cell.\n",
    "- Convert minutes to hours using Python code."
   ]
  },
  {
   "cell_type": "markdown",
   "metadata": {},
   "source": [
    "## Author \n",
    "Edward Ulises Gómez Padilla "
   ]
  },
  {
   "cell_type": "code",
   "execution_count": null,
   "metadata": {},
   "outputs": [],
   "source": []
  }
 ],
 "metadata": {
  "kernelspec": {
   "display_name": "Python",
   "language": "python",
   "name": "conda-env-python-py"
  },
  "language_info": {
   "codemirror_mode": {
    "name": "ipython",
    "version": 3
   },
   "file_extension": ".py",
   "mimetype": "text/x-python",
   "name": "python",
   "nbconvert_exporter": "python",
   "pygments_lexer": "ipython3",
   "version": "3.7.12"
  }
 },
 "nbformat": 4,
 "nbformat_minor": 4
}
